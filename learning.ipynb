{
  "nbformat": 4,
  "nbformat_minor": 0,
  "metadata": {
    "colab": {
      "provenance": [],
      "authorship_tag": "ABX9TyME1lYDqA2w87gROTjth2Re"
    },
    "kernelspec": {
      "name": "python3",
      "display_name": "Python 3"
    },
    "language_info": {
      "name": "python"
    }
  },
  "cells": [
    {
      "cell_type": "markdown",
      "source": [
        "# Hello AI\n",
        "\n",
        "AI has become *the* conversation topic of these days. Sceptics see the doom of the world rising, visionaires see old dreams come true quicker than expected, and most agree on \"this will change everything\". \n",
        "\n",
        "Sure, it is nice to have images generated from prompts. I use this to revamp my old food blog with the ugly images. And surely it is interesting to have a conversation with ChatGPT about any topic you dare to ask. Even if we know that system is lying like a politician briefly before elections, it is also as charming and so we start dialogs about important and personal questions and begin to align with the answers given. \n",
        "\n",
        "All this AI craze lacks for me of one thing mostly: knowledge about what it *really* is and what it can *really* do.\n",
        "\n",
        "I played around with ChatGPT and Midjourney (as advanced consumer) and Stable Diffusion (mostly following some youtube kids), learnt some of the buzz words (Model, inference, token, semantic vectors, etc.), tried (and succeeded with) some \"naive integration\" but the more I see, the more questions come up.\n",
        "\n",
        "* How do I build support for new knowledge?\n",
        "* How does input be modelled to get good answers?\n",
        "* How do I ensure some kind of quality side rails?\n",
        "* Which technologies do I select and how do I combine them in a good way?\n",
        "* How can I operate safely, without too many costs?\n",
        "\n",
        "To get answers, I started this project. I have a \"classic\" IT background, so I can move somewhat swiftly in the premises, but orchestrating all these new technologies and managing a design vision to reach desired outcomes in this area is new for me, too.\n",
        "\n",
        "Walk with me first through some exercises to get going with an efficient learning environment."
      ],
      "metadata": {
        "id": "reionQhSPIf3"
      }
    },
    {
      "cell_type": "markdown",
      "source": [
        "# Setting up a Hosting Provider\n",
        "\n",
        "If you have worked with Cloud providers, you know the setup of virtual machines. While for classic projects, a virtual machine is rather a convenience (quick setup, automated installation, secured environment etc.), it becomes a \"must\" for experiments with AI. Models, data, and processing needs grow so quick that maintaining your own setup is not feasible any longer - at least until you leave learning mode and decide to build your own AI factory 😅.\n",
        "\n",
        "For first steps, [Google Colab](https://colab.research.google.com/) is a good and easy to use option:\n",
        "* Free for initial steps.\n",
        "* Integrated with your Google Account and Drive, so you have a project store already.\n",
        "* Integrated with Github, so you can easily maintain the development of your notebooks in an orderly fashion.\n",
        "* Paid upgrades possible if you need more.\n",
        "* Local runtime of Jupyter possible if you already have resources available ([Setup Info ](https://research.google.com/colaboratory/local-runtimes.html), not yet tried).\n",
        "\n",
        "Especially in the free environment, Colab has some performance and quality issues. You will learn pretty quick about broken tasks because your (virtual) hardware is not sufficient. So if you want to move to a more specialized provider, feel free to do so. I tried some few, but are not yet able to compare them systematically since I basically used only beginner's feature sets.\n",
        "\n",
        "* [RunPod](https://www.runpod.io/) - GPU Cloud with pre-setup environments\n",
        "* [Paperspace](https://paperspace.com) - Notebooks, GPU, Deployment Services\n",
        "* [HuggingFace](https://huggingface.co/) - Home of the Open Source Models, Development and Deployment ecosystem (you will need here an account in any case if you want to use one of the open models like Stable Diffusion or GPT-J).\n",
        "\n",
        "---\n",
        "> **Keep an eye on where you commit to usage fees, there are many tools out there that require a funding source. Even if it is only some cents for initial experiments, consumption can get out of hand easily.**\n",
        "---"
      ],
      "metadata": {
        "id": "VjbM5InfQjTM"
      }
    },
    {
      "cell_type": "markdown",
      "source": [
        "# Know Your Tools\n",
        "\n",
        "It's great that ChatGPT can write now software code for you, but what do you do with it? Today's tool chain maturity still requires that you integrate partial results into an end-to-end workstream. So you should at least roughly know what you are doing with the individual components.\n",
        "\n",
        "For developers this might be familiar turf to some extent, so you can quickly flip through this block. For everyone else, this chapter is not necessarily a roadblock before you can jump into AI joys, but it can't hurt to make yourself familiar with these concepts before or in parallel to the AI learning, depending how you learn best.\n",
        "\n",
        "## Git\n",
        "git is the central repository for developer articats and platforms like Github have evolved to a complete tech ecosystem. I don't want to write just another git manual, there is plenty out there. Checkout some places to learn about the basic lifecycle, this is enough for our purposes.\n",
        "\n",
        "Some interesting learning pages are\n",
        "* [Roger Dudler's git guide](https://rogerdudler.github.io/git-guide/index.html)\n",
        "* [Intro videos for beginners](https://www.git-tower.com/learn/git/videos/), use the CLI version of the videos.\n",
        "\n",
        "## Jupyter Notebook\n",
        "You're here, aren't you? So you already managed to see a notebook, and when we come to the action part, you will get interactive too. Let's stick to the headline \"documentation and coding environment\" as the mental model why we are here.\n",
        "\n",
        "No worries, we don't code yet. If you are on a Colab environment, let's just use a little predefined notebook integration to insert a codeblock semi-automatically. Click the folder on the left toolbar, then select the folder with the google drive symbol. **Do not** accept the access options. \n",
        "\n",
        "![gdrive-image](https://github.com/selfscrum/learning-ai/blob/main/images/gdrive.png?raw=1)\n",
        "\n",
        "This will cause Colab to add a code block below the currently selected one.\n",
        "\n",
        "![gdrive-block-image](https://github.com/selfscrum/learning-ai/blob/main/images/gdrive-block.png?raw=1)\n",
        "\n",
        "If you hover over the area between the square brackets, a play symbol appears. Click on it, and confirm all the warnings and acceptance screens. After some seconds, the code block (this is what it actually is) is executed successfully, indicated by a green checkmark. You know now that this block has run in this session. \n",
        "\n",
        "![gdrive-success-image](https://github.com/selfscrum/learning-ai/blob/main/images/gdrive-success.png?raw=1)\n",
        "\n",
        "If you refresh now the folder view in the left panel, you see the mounted drive folder which points to your private Google Drive space. This means you can access all files in Google Drive from within the Notebook. You might want to use it for session results, and data and model uploads. All assets that are meant to persist the session, should be stored directly in the notebook or as files in Github.\n",
        "\n",
        "## Python\n",
        "\n",
        "I am not a professional developer and know Python only from occasional small coding sessions. What I see in most notebooks is some glue code or a sequence of setup steps for the technology we are going to use. So, if you have a rough understanding what coding with Python is, this won't hurt. If all goes well, you do not need to jump into the code but just have to start it - this is the beauty of Jupyter Notebooks, which can guide you through an interactive session without jumping in every tarpit.\n",
        "\n",
        "But if something goes wrong, you might get some error messages. It is surely beneficial if you can roughly interpret them, or check answers from Google to fix the problem.\n",
        "\n",
        "## Markdown\n",
        "\n",
        "You should be familiar with the markdown notation since thisis how Jupyter Notebook texts are written. You find this supported in many tools like Github, Notion, too name some. It is easy and compelling and relieves you from the \"Learn MS Word\" burden. See [Markdown Guide](https://www.markdownguide.org/)\n",
        "\n",
        "## Image manipulation\n",
        "\n",
        "If you are interested in image processing, you might need some processing tools since current AI has quite some prerequisites about image formats etc. You can use any desktop app of your choice, or you can use web services like [Birme](https://birme.net) to support your batch workflow.\n"
      ],
      "metadata": {
        "id": "XLk0C-xbWdn_"
      }
    },
    {
      "cell_type": "markdown",
      "source": [
        "# Find your Heros\n",
        "\n",
        "Learning alone is not how you get up to speed. Find a learning group to discuss your targets, your plans, your issues, and to celebrate your successes. This could be someone from your surroundings, or maybe you find a discord forum around one of the tools we are going to see.\n",
        "\n",
        "At least you should tune into some youtube videos to get some basic conceptual understanding. As always for a new topic, it's hard to know what you are looking for, so you have to try out some channels to find the proper ones that fit your needs and support you best.\n",
        "\n",
        "I learned from (in order of appearance on my radar)\n",
        "* [Kris Kashtanova](https://www.kris.art/), an early adoptor of image creation on Midjourney\n",
        "* [Sebastian Kamph](https://www.youtube.com/@sebastiankamph) about Stable Diffusion, deforum and Automatic1111\n",
        "* [Amelia Player aka PromptMuse](https://www.youtube.com/@promptmuse) about various image and video processing workflows\n",
        "* [David Shapiro](https://www.youtube.com/@DavidShapiroAutomator) GPT3 and ChatGPT experiments with Python. He is always \"5 minutes ahead\" of you, so if you like to follow searchers, this is the one for you.\n",
        "* [Olivio Sarikas](https://www.youtube.com/@OlivioSarikas) for prompt engineering details for imaging"
      ],
      "metadata": {
        "id": "J8iqqCuWH3d9"
      }
    }
  ]
}