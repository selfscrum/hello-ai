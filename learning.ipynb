{
  "nbformat": 4,
  "nbformat_minor": 0,
  "metadata": {
    "colab": {
      "provenance": [],
      "authorship_tag": "ABX9TyO5tKhXr8Qu8qd2aOkLSr7m"
    },
    "kernelspec": {
      "name": "python3",
      "display_name": "Python 3"
    },
    "language_info": {
      "name": "python"
    }
  },
  "cells": [
    {
      "cell_type": "markdown",
      "source": [
        "# Hello AI\n",
        "\n",
        "Walk through some exercises to get going with an efficient learning environment."
      ],
      "metadata": {
        "id": "reionQhSPIf3"
      }
    },
    {
      "cell_type": "markdown",
      "source": [
        "# Setting up a Hosting Provider\n",
        "\n",
        "You know the virtual setup of machines from the cloud providers. While for classic projects, a virtual machine is rather a convenience (quick setup, IaC, secured environment etc.), it becomes a \"must\" for experiments with AI. Models, data, and processing needs grow so quick that maintaining your own setup is not feasible any longer - at least until you leave learning mode and decide to build your own AI factory 😅.\n",
        "\n",
        "For first steps, [Google Colab](https://colab.research.google.com/) is a good and easy to use option:\n",
        "* Free for the initial steps.\n",
        "* Integrated with your Google Account and Drive, so you have a project store already.\n",
        "* Integrated with Github, so you can easily maintain the development of your notebooks in an orderly fashion.\n",
        "* Paid upgrades possible if you need more.\n",
        "* Local runtime of Jupyter possible if you already have resources available ([Setup Info ](https://research.google.com/colaboratory/local-runtimes.html), not yet tried).\n",
        "\n",
        "Especially in the free environment, Colab has some performance and quality issues, so if you want to move to a more specialized provider, feel free to do so. I tried some few, but are not yet able to compare them systematically since I basically used only beginner's feature sets.\n",
        "\n",
        "* [RunPod](https://www.runpod.io/) - GPU Cloud with pre-setup environments\n",
        "* [Paperspace](https://paperspace.com) - Notebooks, GPU, Deployment Services\n",
        "* [HuggingFace](https://huggingface.co/) - Home of the Open Source Models, Development and Deployment ecosystem (you will need here an account in any case if you want to use one of the open models like Stable Diffusion).\n",
        "\n",
        "---\n",
        "> **Keep an eye on where you commit to usage fees, there are many tools out there that require a funding source. Even if it is only some cents for initial experiments, consumption can get out of hand easily.**\n",
        "---"
      ],
      "metadata": {
        "id": "VjbM5InfQjTM"
      }
    },
    {
      "cell_type": "markdown",
      "source": [
        "# Know Your Tools\n",
        "\n",
        "It's great that ChatGPT can write now software code for you, but what do you do with it? Today's tool chain maturity still requires that you at least roughly know what you are doing.\n",
        "\n",
        "For developers this might be familiar turf to some extent, so you can quickly flip through this block. For everyone else, this chapter is not necessarily a roadblock before you can jump into AI joys, but it can't hurt to make yourself familiar with these concepts before or in parallel to the AI learning, depending how you learn best.\n",
        "\n",
        "## Jupyter Notebook\n",
        "You're here, aren't you? So you already managed to see a notebook, and when we come to the action part, you will get interactive too. For now, if you are on a Colab environment, let's just use a little predefined notebook integration to insert a codeblock semi-automatically. Click the folder on the left toolbar, then select the folder with the google drive symbol. **Do not** accept the access options. \n",
        "\n",
        "![gdrive-image](https://github.com/selfscrum/learning-ai/blob/main/images/gdrive.png?raw=1)\n",
        "\n",
        "This will cause Colab to add a code block below the currently selected one.\n",
        "\n",
        "![gdrive-block-image](https://github.com/selfscrum/learning-ai/blob/main/images/gdrive-block.png?raw=1)\n",
        "\n",
        "If you hover over the area between the square brackets, a play symbol appears. Click on it, and confirm all the warnings and acceptance screens. After some seconds, the code block (this is what it actually is) is executed successfully, indicated by a green checkmark. You know now that this block has run in this session. \n",
        "\n",
        "![gdrive-success-image](https://github.com/selfscrum/learning-ai/blob/main/images/gdrive-success.png?raw=1)\n",
        "\n",
        "If you refresh now the folder view in the left panel, you see the mounted drive folder which points to your private Google Drive space. You might want to use it for session results, and data and model uploads. All assets that are meant to persist the session, should be stored directly in the notebook or as files in Github.\n",
        "\n"
      ],
      "metadata": {
        "id": "XLk0C-xbWdn_"
      }
    },
    {
      "cell_type": "code",
      "source": [
        "from google.colab import drive\n",
        "drive.mount('/content/drive')"
      ],
      "metadata": {
        "id": "CbFYukY5jhdV",
        "outputId": "c2b0e841-624d-4211-8d5d-e0f2232efe16",
        "colab": {
          "base_uri": "https://localhost:8080/"
        }
      },
      "execution_count": 1,
      "outputs": [
        {
          "output_type": "stream",
          "name": "stdout",
          "text": [
            "Mounted at /content/drive\n"
          ]
        }
      ]
    }
  ]
}